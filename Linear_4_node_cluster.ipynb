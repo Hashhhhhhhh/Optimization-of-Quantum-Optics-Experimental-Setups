{
  "nbformat": 4,
  "nbformat_minor": 0,
  "metadata": {
    "colab": {
      "provenance": [],
      "authorship_tag": "ABX9TyNIl0ZJaa+jPSFq3nwYfOqp",
      "include_colab_link": true
    },
    "kernelspec": {
      "name": "python3",
      "display_name": "Python 3"
    },
    "language_info": {
      "name": "python"
    }
  },
  "cells": [
    {
      "cell_type": "markdown",
      "metadata": {
        "id": "view-in-github",
        "colab_type": "text"
      },
      "source": [
        "<a href=\"https://colab.research.google.com/github/Hashhhhhhhh/Optimization-of-Quantum-Optics-Experimental-Setups/blob/main/Linear_4_node_cluster.ipynb\" target=\"_parent\"><img src=\"https://colab.research.google.com/assets/colab-badge.svg\" alt=\"Open In Colab\"/></a>"
      ]
    },
    {
      "cell_type": "code",
      "execution_count": 1,
      "metadata": {
        "colab": {
          "base_uri": "https://localhost:8080/",
          "height": 352
        },
        "id": "RG1MbMttNdq3",
        "outputId": "4933d6dd-1b9a-49cc-c5f8-4fb14a636cd4"
      },
      "outputs": [
        {
          "output_type": "stream",
          "name": "stdout",
          "text": [
            "SA best: [1, 1, 1, 0, 1, 1] -7.0\n",
            "Brute best: [1, 1, 1, 1, 1, 0] -7.0\n"
          ]
        },
        {
          "output_type": "display_data",
          "data": {
            "text/plain": [
              "<Figure size 500x200 with 1 Axes>"
            ],
            "image/png": "[encoded data removed]"
          },
          "metadata": {}
        },
        {
          "output_type": "stream",
          "name": "stdout",
          "text": [
            "step 0 F= 0.9999999403953552\n",
            "step 100 F= 0.9999999403953552\n",
            "step 200 F= 0.9999999403953552\n",
            "step 300 F= 0.9999999403953552\n",
            "step 400 F= 0.9999999403953552\n",
            "bestF 0.9999999403953552\n"
          ]
        }
      ],
      "source": [
        "\n",
        "import math, cmath, random, time\n",
        "import numpy as np\n",
        "import networkx as nx\n",
        "import matplotlib.pyplot as plt\n",
        "import torch\n",
        "random.seed(0); np.random.seed(0); torch.manual_seed(0)\n",
        "\n",
        "# Problem definition\n",
        "# Variables order: [s01, s12, s23, bs01, bs12, bs23]  (6 binaries)\n",
        "var_names = ['s01','s12','s23','bs01','bs12','bs23']\n",
        "n = len(var_names)\n",
        "\n",
        "# QUBO build\n",
        "Q = np.zeros((n,n))\n",
        "Q[0,0]=Q[1,1]=Q[2,2] = -1.0   # reward sources\n",
        "Q[3,3]=Q[4,4]=Q[5,5] = -0.2   # bs\n",
        "# synergies: if s01 and s23 both present they form matching (0,1)(2,3)\n",
        "Q[0,2] = -0.8; Q[2,0] = -0.8\n",
        "# matching (0,2)(1,3) would need diagonals; skip here\n",
        "# source-bs synergies: connect each source to its BS\n",
        "Q[0,3] = -0.7; Q[3,0] = -0.7\n",
        "Q[1,4] = -0.7; Q[4,1] = -0.7\n",
        "Q[2,5] = -0.7; Q[5,2] = -0.7\n",
        "# BS conflicts\n",
        "for i in [3,4,5]:\n",
        "    for j in [3,4,5]:\n",
        "        if i<j:\n",
        "            Q[i,j]=0.4; Q[j,i]=0.4\n",
        "\n",
        "# SA solver\n",
        "def energy(x): xv=np.array(x); return float(xv @ Q @ xv)\n",
        "def neighbor(x): y=x.copy(); i=random.randrange(len(x)); y[i]=1-y[i]; return y\n",
        "def sa(Q, iters=4000):\n",
        "    x=[random.choice([0,1]) for _ in range(n)]\n",
        "    best=x.copy(); bestE=energy(x); curE=bestE\n",
        "    for k in range(iters):\n",
        "        y=neighbor(x); yE=energy(y)\n",
        "        d=yE-curE\n",
        "        T=1.0*(0.001**(k/iters))\n",
        "        if d<0 or random.random() < math.exp(-d/max(T,1e-12)):\n",
        "            x=y; curE=yE\n",
        "            if curE<bestE:\n",
        "                best=x.copy(); bestE=curE\n",
        "    return best,bestE\n",
        "\n",
        "# run SA and brute force\n",
        "best_sa, e_sa = sa(Q, iters=6000)\n",
        "print(\"SA best:\", best_sa, e_sa)\n",
        "# brute force\n",
        "bestE=1e12; best=None\n",
        "for v in range(1<<n):\n",
        "    x=[(v>>i)&1 for i in range(n)]\n",
        "    E=energy(x)\n",
        "    if E<bestE: bestE=E; best=x\n",
        "print(\"Brute best:\",best, bestE)\n",
        "\n",
        "# visualizing best skeleton\n",
        "def draw_4mode(x, title=\"\"):\n",
        "    G=nx.Graph()\n",
        "    G.add_nodes_from([0,1,2,3])\n",
        "    pos={0:(-1,0.5),1:(-0.3,0.5),2:(0.3,0.5),3:(1,0.5)}\n",
        "    sp=[]; bs=[]\n",
        "    if x[0]: sp.append((0,1))\n",
        "    if x[1]: sp.append((1,2))\n",
        "    if x[2]: sp.append((2,3))\n",
        "    if x[3]: bs.append((0,1))\n",
        "    if x[4]: bs.append((1,2))\n",
        "    if x[5]: bs.append((2,3))\n",
        "    plt.figure(figsize=(5,2)); ax=plt.gca(); nx.draw_networkx_nodes(G,pos,node_color='lightblue',node_size=600); nx.draw_networkx_labels(G,pos)\n",
        "    if sp: nx.draw_networkx_edges(G,pos,edgelist=sp,width=4,edge_color='orange')\n",
        "    if bs: nx.draw_networkx_edges(G,pos,edgelist=bs,width=2,style='--',edge_color='black')\n",
        "    plt.title(title); plt.axis('off'); plt.show()\n",
        "\n",
        "draw_4mode(best,\"Best by brute force\")\n",
        "\n",
        "# mapping: raw params = [r01,r12,r23, p01,p12,p23, m0,m1,m2,m3, t01,t12,t23] length 13\n",
        "def torch_outputs(params):\n",
        "\n",
        "    r01,r12,r23,p01,p12,p23,m0,m1,m2,m3,t01,t12,t23 = torch.unbind(params)\n",
        "    P01 = torch.nn.functional.softplus(r01)\n",
        "    P12 = torch.nn.functional.softplus(r12)\n",
        "    P23 = torch.nn.functional.softplus(r23)\n",
        "    c01 = torch.sqrt(P01)*torch.exp(1j*p01)\n",
        "    c12 = torch.sqrt(P12)*torch.exp(1j*p12)\n",
        "    c23 = torch.sqrt(P23)*torch.exp(1j*p23)\n",
        "    # apply mode phases\n",
        "    c01t = c01 * torch.exp(1j*(m0+m1))\n",
        "    c12t = c12 * torch.exp(1j*(m1+m2))\n",
        "    c23t = c23 * torch.exp(1j*(m2+m3))\n",
        "    # toy mapping for matching amplitudes\n",
        "    M1 = c01t * c23t\n",
        "    M2 = c01t * c12t  # not physical—replace with correct mapping for real design\n",
        "    M3 = c12t * c23t\n",
        "    # normalize and fidelity (target = equal superposition)\n",
        "    S = M1 + M2 + M3\n",
        "    N = (torch.abs(M1)**2 + torch.abs(M2)**2 + torch.abs(M3)**2) + 1e-12\n",
        "    F = (torch.abs(S)**2) / (3.0*N)\n",
        "    return F, (M1,M2,M3), N\n",
        "\n",
        "# example optimize the full graph\n",
        "init = np.zeros(13); init[:3]=0.2; init[3:6]=0.0; init[6:10]=0.0; init[10:]=0.1\n",
        "params = torch.tensor(init, dtype=torch.float32, requires_grad=True)\n",
        "opt = torch.optim.Adam([params], lr=0.05)\n",
        "bestF = -1e9; bestp=None\n",
        "for step in range(500):\n",
        "    opt.zero_grad(); F,Ms,N = torch_outputs(params); loss = 1.0-F; loss.backward(); opt.step()\n",
        "    if F.item()>bestF: bestF=F.item(); bestp=params.detach().numpy().copy()\n",
        "    if step%100==0:\n",
        "        print(\"step\",step,\"F=\",F.item())\n",
        "print(\"bestF\",bestF)"
      ]
    },
    {
      "cell_type": "code",
      "source": [
        "import numpy as np, math\n",
        "best = bestp\n",
        "r01,r12,r23,p01,p12,p23,m0,m1,m2,m3,t01,t12,t23 = best\n",
        "# softplus -> positive pump\n",
        "P01 = np.log1p(np.exp(r01))\n",
        "P12 = np.log1p(np.exp(r12))\n",
        "P23 = np.log1p(np.exp(r23))\n",
        "# theta = 0.5 * math.pi * (1/(1+math.exp(-t_theta)))  # sigmoid mapping\n",
        "print(\"Pumps:\", P01, P12, P23)\n",
        "print(\"Source phases:\", p01, p12, p23)\n",
        "print(\"Mode phases:\", m0, m1, m2, m3)\n",
        "# print(\"BS theta (rad):\", theta)"
      ],
      "metadata": {
        "colab": {
          "base_uri": "https://localhost:8080/"
        },
        "id": "a6OoGJa8Pd4Z",
        "outputId": "572c7dcc-6305-4846-99e2-f8812421efd1"
      },
      "execution_count": 2,
      "outputs": [
        {
          "output_type": "stream",
          "name": "stdout",
          "text": [
            "Pumps: 0.79813886 0.79813886 0.79813886\n",
            "Source phases: 0.0 0.0 0.0\n",
            "Mode phases: 0.0 0.0 0.0 0.0\n"
          ]
        }
      ]
    },
    {
      "cell_type": "code",
      "source": [
        "params = torch.tensor(best, dtype=torch.float32, requires_grad=True)\n",
        "F,_,_ = torch_outputs(params)\n",
        "F.backward()\n",
        "grads = params.grad\n",
        "print(\"grad norms per param:\", [float(abs(g).item()) for g in grads])\n",
        "print(\"total grad norm:\", float(torch.norm(grads).item()))"
      ],
      "metadata": {
        "colab": {
          "base_uri": "https://localhost:8080/"
        },
        "id": "ubBqYTiLPy2Z",
        "outputId": "6f1a3c01-ab81-4184-f532-97bcab86e1c3"
      },
      "execution_count": 3,
      "outputs": [
        {
          "output_type": "stream",
          "name": "stdout",
          "text": [
            "grad norms per param: [0.0, 0.0, 0.0, 0.0, 0.0, 0.0, 0.0, 0.0, 0.0, 0.0, 0.0, 0.0, 0.0]\n",
            "total grad norm: 0.0\n"
          ]
        }
      ]
    },
    {
      "cell_type": "code",
      "source": [
        "import numpy as np\n",
        "base = best.copy()\n",
        "deltas = np.linspace(-0.1,0.1,9)\n",
        "Fs = []\n",
        "for d in deltas:\n",
        "    test = base.copy()\n",
        "    test[6] += d   # perturb mA (mode phase)\n",
        "    Ft,_,_ = torch_outputs(torch.tensor(test, dtype=torch.float32))\n",
        "    Fs.append(float(Ft))\n",
        "print(list(zip(deltas, Fs)))"
      ],
      "metadata": {
        "colab": {
          "base_uri": "https://localhost:8080/"
        },
        "id": "7pquXv76P2rc",
        "outputId": "81bfa9a1-ded8-4932-c362-fad1a53d562e"
      },
      "execution_count": 4,
      "outputs": [
        {
          "output_type": "stream",
          "name": "stdout",
          "text": [
            "[(np.float64(-0.1), 0.9977796673774719), (np.float64(-0.07500000000000001), 0.9987506866455078), (np.float64(-0.05), 0.9994446039199829), (np.float64(-0.024999999999999994), 0.9998611211776733), (np.float64(0.0), 0.9999999403953552), (np.float64(0.024999999999999994), 0.9998611211776733), (np.float64(0.05000000000000002), 0.9994446039199829), (np.float64(0.07500000000000001), 0.9987506866455078), (np.float64(0.1), 0.9977796673774719)]\n"
          ]
        }
      ]
    }
  ]
}